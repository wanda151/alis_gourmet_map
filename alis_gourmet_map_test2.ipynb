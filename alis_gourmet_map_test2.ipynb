{
 "cells": [
  {
   "cell_type": "code",
   "execution_count": 1,
   "metadata": {},
   "outputs": [],
   "source": [
    "import urllib\n",
    "import json\n",
    "import sys\n",
    "import codecs\n",
    "import urllib.request\n",
    "import pprint\n",
    "import datetime\n",
    "import time"
   ]
  },
  {
   "cell_type": "code",
   "execution_count": 2,
   "metadata": {},
   "outputs": [],
   "source": [
    "api_tag = 'https://alis.to/api/search/articles?tag=%E8%87%B3%E9%AB%98%E3%81%AE%E2%97%8B%E2%97%8B%E3%83%86%E3%82%B9%E3%83%88'"
   ]
  },
  {
   "cell_type": "code",
   "execution_count": 3,
   "metadata": {},
   "outputs": [],
   "source": [
    "url_tag = urllib.request.urlopen(api_tag)"
   ]
  },
  {
   "cell_type": "code",
   "execution_count": 4,
   "metadata": {},
   "outputs": [],
   "source": [
    "article_tags = json.loads(url_tag.read().decode(\"utf-8\"))"
   ]
  },
  {
   "cell_type": "code",
   "execution_count": 5,
   "metadata": {},
   "outputs": [],
   "source": [
    "article_ids = [article_tag.get('article_id') for article_tag in article_tags]\n",
    "#article idを取り出す"
   ]
  },
  {
   "cell_type": "code",
   "execution_count": 6,
   "metadata": {},
   "outputs": [],
   "source": [
    "user_ids = [article_tag.get('user_id') for article_tag in article_tags]\n",
    "#user id を取り出す"
   ]
  },
  {
   "cell_type": "code",
   "execution_count": 7,
   "metadata": {},
   "outputs": [],
   "source": [
    "api_article_ids = [\"https://alis.to/api/articles/\"+article_id for article_id in article_ids]\n",
    "#article_idをAPIで取り出しやすい形にする"
   ]
  },
  {
   "cell_type": "code",
   "execution_count": 8,
   "metadata": {},
   "outputs": [],
   "source": [
    "user_id_info_apis = [\"https://alis.to/api/users/\"+user_id+\"/info\" for user_id in user_ids]\n",
    "#user_id_infoをAPIで取り出しやすい形にする"
   ]
  },
  {
   "cell_type": "code",
   "execution_count": 9,
   "metadata": {},
   "outputs": [],
   "source": [
    "user_id_infos = [json.loads(urllib.request.urlopen(user_id_info_api).read().decode(\"utf-8\")) for user_id_info_api in user_id_info_apis]\n",
    "#/users/{user_id}/infoを取り出す"
   ]
  },
  {
   "cell_type": "code",
   "execution_count": 10,
   "metadata": {},
   "outputs": [],
   "source": [
    "user_display_names = [user_id_info.get('user_display_name') for user_id_info in user_id_infos]\n",
    "#user_display_name　を取り出す"
   ]
  },
  {
   "cell_type": "code",
   "execution_count": 11,
   "metadata": {},
   "outputs": [],
   "source": [
    "likes_apis = [\"https://alis.to/api/articles/\"+article_id+\"/likes\" for article_id in article_ids]\n",
    "#likes_apiをAPIで取り出しやすい形にする"
   ]
  },
  {
   "cell_type": "code",
   "execution_count": 12,
   "metadata": {},
   "outputs": [],
   "source": [
    "likes = [json.loads(urllib.request.urlopen(likes_api).read().decode(\"utf-8\")) for likes_api in likes_apis]"
   ]
  },
  {
   "cell_type": "code",
   "execution_count": 13,
   "metadata": {},
   "outputs": [],
   "source": [
    "likes_counts = [like.get('count') for like in likes]\n",
    "#Like数　を取り出す"
   ]
  },
  {
   "cell_type": "code",
   "execution_count": 14,
   "metadata": {},
   "outputs": [],
   "source": [
    "articles_bodys = [json.loads(urllib.request.urlopen(api_article_id).read().decode(\"utf-8\")) for api_article_id in api_article_ids]"
   ]
  },
  {
   "cell_type": "code",
   "execution_count": 15,
   "metadata": {},
   "outputs": [],
   "source": [
    "def get_block(text, start_text, end_text):\n",
    "    if not text.find(start_text) >= 0:\n",
    "        return []\n",
    "    new_texts = []\n",
    "    for split_text in text.split(start_text):\n",
    "        if split_text.find(end_text) >= 0:\n",
    "            new_texts.append(split_text.split(end_text)[0])\n",
    "    return new_texts"
   ]
  },
  {
   "cell_type": "code",
   "execution_count": 16,
   "metadata": {},
   "outputs": [
    {
     "name": "stdout",
     "output_type": "stream",
     "text": [
      "麺匠あじゃり\n",
      "中華そば 鍾馗\n",
      "麺屋蕪村 権堂店\n"
     ]
    }
   ],
   "source": [
    "for articles_body in articles_bodys:\n",
    "    texts = get_block(articles_body.get(\"body\"), \"<blockquote>\", \"</blockquote>\")\n",
    "    texts = [text for text in texts if text.find(\"〒\") >= 0]\n",
    "    for text in texts:\n",
    "        texts = get_block(articles_body.get(\"body\"), \"店名\", \"<br>住所\")\n",
    "    store_name_str = str(texts)\n",
    "    print(store_name_str.replace(\":\", \"\").replace(\"：\", \"\").replace(\"['\",\"\").replace(\"']\",\"\"))\n",
    "    store_name = store_name_str.replace(\":\", \"\").replace(\"：\", \"\").replace(\"['\",\"\").replace(\"']\",\"\")"
   ]
  },
  {
   "cell_type": "code",
   "execution_count": 17,
   "metadata": {},
   "outputs": [
    {
     "name": "stdout",
     "output_type": "stream",
     "text": [
      "〒381-2217 長野県長野市稲里町中央３丁目３５\n",
      "〒381-0000 長野県長野市鶴賀上千歳町１３３７\n",
      "〒380-0833 長野県長野市鶴賀権堂町２２８４\n"
     ]
    }
   ],
   "source": [
    "for articles_body in articles_bodys:\n",
    "    texts = get_block(articles_body.get(\"body\"), \"<blockquote>\", \"</blockquote>\")\n",
    "    texts = [text for text in texts if text.find(\"〒\") >= 0]\n",
    "    for text in texts:\n",
    "        texts = get_block(articles_body.get(\"body\"), \"<br>住所：\", \"</blockquote>\")\n",
    "        texts = [text for text in texts if text.find(\"〒\") >= 0]\n",
    "    location_str = str(texts)\n",
    "    print(location_str.replace(\":\", \"\").replace(\"：\", \"\").replace(\"['\",\"\").replace(\"']\",\"\"))\n",
    "    location = location_str.replace(\":\", \"\").replace(\"：\", \"\").replace(\"['\",\"\").replace(\"']\",\"\")"
   ]
  },
  {
   "cell_type": "code",
   "execution_count": 18,
   "metadata": {},
   "outputs": [
    {
     "name": "stdout",
     "output_type": "stream",
     "text": [
      "秋の味覚絶品ピン\n",
      "秋の味覚絶品ピン\n",
      "秋の味覚絶品ピン\n"
     ]
    }
   ],
   "source": [
    "for articles_body in articles_bodys:\n",
    "    texts = get_block(articles_body.get(\"body\"), \"<blockquote>\", \"</blockquote>\")\n",
    "    texts = [text for text in texts if text.find(\"〒\") >= 0]\n",
    "    for text in texts:\n",
    "        texts = get_block(articles_body.get(\"body\"), \"企画名\", \"<br>料理ジャンル\")\n",
    "    project_name_str = str(texts)\n",
    "    print(project_name_str.replace(\":\", \"\").replace(\"：\", \"\").replace(\"['\",\"\").replace(\"']\",\"\"))\n",
    "    project_name = project_name_str.replace(\":\", \"\").replace(\"：\", \"\").replace(\"['\",\"\").replace(\"']\",\"\")"
   ]
  },
  {
   "cell_type": "code",
   "execution_count": 19,
   "metadata": {},
   "outputs": [
    {
     "name": "stdout",
     "output_type": "stream",
     "text": [
      "ラーメン\n",
      "ラーメン\n",
      "ラーメン\n"
     ]
    }
   ],
   "source": [
    "for articles_body in articles_bodys:\n",
    "    texts = get_block(articles_body.get(\"body\"), \"<blockquote>\", \"</blockquote>\")\n",
    "    texts = [text for text in texts if text.find(\"〒\") >= 0]\n",
    "    for text in texts:\n",
    "        texts = get_block(articles_body.get(\"body\"), \"料理ジャンル\", \"<br>店名\")\n",
    "    food_Genre_str = str(texts)\n",
    "    print(food_Genre_str.replace(\":\", \"\").replace(\"：\", \"\").replace(\"['\",\"\").replace(\"']\",\"\"))\n",
    "    food_Genre = food_Genre_str.replace(\":\", \"\").replace(\"：\", \"\").replace(\"['\",\"\").replace(\"']\",\"\")"
   ]
  },
  {
   "cell_type": "code",
   "execution_count": 20,
   "metadata": {},
   "outputs": [
    {
     "name": "stdout",
     "output_type": "stream",
     "text": [
      "https://alis.to/wand/articles/3ldMkpzN4J87\n",
      "https://alis.to/wand/articles/2xANODyYEV96\n",
      "https://alis.to/wand/articles/3LqV1qnyX1Dp\n"
     ]
    }
   ],
   "source": [
    "for (article_id, user_id) in zip(article_ids, user_ids):\n",
    "    article_url=\"https://alis.to/\"+str(user_id) +\"/articles/\"+ str(article_id)\n",
    "    print(article_url)"
   ]
  },
  {
   "cell_type": "code",
   "execution_count": null,
   "metadata": {},
   "outputs": [],
   "source": []
  }
 ],
 "metadata": {
  "kernelspec": {
   "display_name": "Python 3",
   "language": "python",
   "name": "python3"
  },
  "language_info": {
   "codemirror_mode": {
    "name": "ipython",
    "version": 3
   },
   "file_extension": ".py",
   "mimetype": "text/x-python",
   "name": "python",
   "nbconvert_exporter": "python",
   "pygments_lexer": "ipython3",
   "version": "3.6.5"
  }
 },
 "nbformat": 4,
 "nbformat_minor": 2
}
