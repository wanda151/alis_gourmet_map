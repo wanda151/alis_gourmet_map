{
 "cells": [
  {
   "cell_type": "code",
   "execution_count": 227,
   "metadata": {},
   "outputs": [],
   "source": [
    "import urllib\n",
    "import json\n",
    "import sys\n",
    "import codecs\n",
    "import urllib.request\n",
    "import pprint\n",
    "import datetime\n",
    "import time"
   ]
  },
  {
   "cell_type": "code",
   "execution_count": 228,
   "metadata": {},
   "outputs": [],
   "source": [
    "api_tag = 'https://alis.to/api/search/articles?tag=ALIS%E3%82%B0%E3%83%AB%E3%83%A1%E4%BC%81%E7%94%BB'"
   ]
  },
  {
   "cell_type": "code",
   "execution_count": 229,
   "metadata": {},
   "outputs": [],
   "source": [
    "url_tag = urllib.request.urlopen(api_tag)"
   ]
  },
  {
   "cell_type": "code",
   "execution_count": 230,
   "metadata": {},
   "outputs": [
    {
     "name": "stdout",
     "output_type": "stream",
     "text": [
      "[{'user_id': 'wand', 'created_at': 1536237064.0, 'topic': 'gourmet', 'sync_elasticsearch': 1.0, 'overview': 'こんにちは、Wandaです。先日、長野市内にある「拉麺阿吽」というラーメン屋さんに行ってきました。私がよく行く、ラーメン屋さんの内の一軒です。店内はこじんまりとしていますが、シンプルでお洒落です。カウ', 'status': 'public', 'sort_key': 1536326720561779.0, 'eye_catch_url': 'https://alis.to/d/api/articles_images/wand/3Y1odX9j51qy/ed7798c5-8ed1-4ddb-b593-ae3b3ff77bed.png', 'article_id': '3Y1odX9j51qy', 'published_at': 1536326720.0, 'tags': ['ALISグルメ企画'], 'title': '「拉麺 阿吽」で秋刀魚拉麵食べてきたよ。'}, {'user_id': 'wand', 'created_at': 1525278509.0, 'topic': 'gourmet', 'sync_elasticsearch': 1.0, 'overview': 'aaaaこんにちは、Wanda（@aliswanda151）です。今朝6時ごろ（5/2）、とある方からツイッターでリプライをいただきました。（あまりに驚きすぎて10秒ほどフリーズしました。）ALISを', 'status': 'public', 'sort_key': 1525280489647221.0, 'eye_catch_url': 'https://alis.to/d/api/articles_images/wand/2xANODyYEV96/720d0ddd-d2cb-4440-8318-cb411d325024.png', 'article_id': '2xANODyYEV96', 'tags': ['ALISグルメ企画'], 'published_at': 1525280489.0, 'title': 'ALIS読者の心得'}]\n"
     ]
    }
   ],
   "source": [
    "article_tags = json.loads(url_tag.read().decode(\"utf-8\"))\n",
    "print(article_tags)"
   ]
  },
  {
   "cell_type": "code",
   "execution_count": 231,
   "metadata": {},
   "outputs": [],
   "source": [
    "article_ids = [article_tag.get('article_id') for article_tag in article_tags]\n",
    "#article idを取り出す"
   ]
  },
  {
   "cell_type": "code",
   "execution_count": 232,
   "metadata": {},
   "outputs": [],
   "source": [
    "user_ids = [article_tag.get('user_id') for article_tag in article_tags]\n",
    "#user id を取り出す"
   ]
  },
  {
   "cell_type": "code",
   "execution_count": 233,
   "metadata": {},
   "outputs": [],
   "source": [
    "api_article_ids = [\"https://alis.to/api/articles/\"+article_id for article_id in article_ids]\n",
    "#article_idをAPIで取り出しやすい形にする"
   ]
  },
  {
   "cell_type": "code",
   "execution_count": 234,
   "metadata": {},
   "outputs": [],
   "source": [
    "user_id_info_apis = [\"https://alis.to/api/users/\"+user_id+\"/info\" for user_id in user_ids]\n",
    "#user_id_infoをAPIで取り出しやすい形にする"
   ]
  },
  {
   "cell_type": "code",
   "execution_count": 235,
   "metadata": {},
   "outputs": [],
   "source": [
    "user_id_infos = [json.loads(urllib.request.urlopen(user_id_info_api).read().decode(\"utf-8\")) for user_id_info_api in user_id_info_apis]\n",
    "#/users/{user_id}/infoを取り出す"
   ]
  },
  {
   "cell_type": "code",
   "execution_count": 236,
   "metadata": {},
   "outputs": [],
   "source": [
    "user_display_names = [user_id_info.get('user_display_name') for user_id_info in user_id_infos]\n",
    "#user_display_name　を取り出す"
   ]
  },
  {
   "cell_type": "code",
   "execution_count": 237,
   "metadata": {},
   "outputs": [],
   "source": [
    "likes_apis = [\"https://alis.to/api/articles/\"+article_id+\"/likes\" for article_id in article_ids]\n",
    "#likes_apiをAPIで取り出しやすい形にする"
   ]
  },
  {
   "cell_type": "code",
   "execution_count": 238,
   "metadata": {},
   "outputs": [],
   "source": [
    "likes = [json.loads(urllib.request.urlopen(likes_api).read().decode(\"utf-8\")) for likes_api in likes_apis]"
   ]
  },
  {
   "cell_type": "code",
   "execution_count": 239,
   "metadata": {},
   "outputs": [],
   "source": [
    "likes_counts = [like.get('count') for like in likes]\n",
    "#Like数　を取り出す"
   ]
  },
  {
   "cell_type": "code",
   "execution_count": 240,
   "metadata": {},
   "outputs": [
    {
     "name": "stdout",
     "output_type": "stream",
     "text": [
      "[{'user_id': 'wand', 'created_at': 1536237064, 'topic': 'gourmet', 'overview': 'こんにちは、Wandaです。先日、長野市内にある「拉麺阿吽」というラーメン屋さんに行ってきました。私がよく行く、ラーメン屋さんの内の一軒です。店内はこじんまりとしていますが、シンプルでお洒落です。カウ', 'status': 'public', 'eye_catch_url': 'https://alis.to/d/api/articles_images/wand/3Y1odX9j51qy/ed7798c5-8ed1-4ddb-b593-ae3b3ff77bed.png', 'sort_key': 1536326720561779, 'article_id': '3Y1odX9j51qy', 'published_at': 1536326720, 'tags': ['ALISグルメ企画'], 'title': '「拉麺 阿吽」で秋刀魚拉麵食べてきたよ。', 'body': '<p><br></p><div class=\"medium-insert-images medium-insert-images-wide\"><figure><img alt=\"\" src=\"https://alis.to/d/api/articles_images/wand/3Y1odX9j51qy/ed7798c5-8ed1-4ddb-b593-ae3b3ff77bed.png\"></figure></div><p>こんにちは、Wandaです。</p><p>先日、長野市内にある「拉麺 阿吽」というラーメン屋さんに行ってきました。</p><p>私がよく行く、ラーメン屋さんの内の一軒です。</p><p><br></p><p><br></p><p>店内はこじんまりとしていますが、シンプルでお洒落です。</p><p>カウンター席、テーブル席とあるので、ひとりでも、家族や友達とでも来やすいと思います。</p><p><br></p><p><br></p><p><br></p><p>メニューは魚介系、豚骨系のラーメンが並んでいます。日替わり限定メニューもあります。</p><p><br></p><p>今回は、秋も近づいてきたので旬の「秋刀魚拉麺」を注文しました。</p><p><br></p><p><br></p><p>（秋刀魚拉麺の写真\\u3000心の綺麗な人には見える）<br></p><p><br></p><p><br></p><p>おぉぉー美味しそう!!</p><p><br></p><p><br></p><p>では、スープから。</p><p><br></p><p>うん、身体に染みわたりますね。スープはトロっとしていて、魚介の出汁がよく出ています。このまま飲み続けたら秋刀魚になれそうです(笑)</p><p><br></p><p>麺は中細のストレートです。コシもあり、のど越しがとってもいいです。こってり系のラーメンですが、するするっといただけました。</p><p><br></p><p>ご馳走様でした!!</p><p><br></p><p><br></p><p><br></p><p>今回は注文しませんでしたが、水餃子もおすすめです。皮が特徴的で、厚く噛み応えがあり、もちっとした触感がたまりません。</p><p><br></p><p><br></p><p>おススメのお店なので、拉麵が好きな人はぜひ行ってみてください!!<br><br><br><br></p><blockquote>企画名：秋の味覚絶品ピン<br>料理ジャンル：ラーメン<br>店名：拉麺 阿吽<br>住所：〒380-0928 長野県長野市若里４丁目１５−１８</blockquote><p><br></p><hr><p><b>おまけ</b></p><p>昨日、スマホが故障しました(´；ω；`)ｳｩｩ</p><p>写真なくてすみません。</p><p>くそおぉぉぉぉぉぉーーーーーーーーー！</p><p><br></p><p><br></p><p>それと、もうそろそろグルメ企画をしようと思っているので、楽しみにしていてください!!!</p><p>それのテストも兼ねて投稿しています。</p><p><br></p><hr><p><br></p><h2>Wanda</h2><p><b>過去記事一覧</b></p><p>https://alis.to/users/wand<b><br></b></p><div contenteditable=\"false\" data-alis-iframely-url=\"https://alis.to/users/wand\"></div><p><b>ツイッター</b></p><p>https://twitter.com/aliswanda151</p><div contenteditable=\"false\" data-alis-iframely-url=\"https://twitter.com/aliswanda151\"></div><p><br></p>'}, {'user_id': 'wand', 'created_at': 1525278509, 'topic': 'gourmet', 'overview': 'aaaaこんにちは、Wanda（@aliswanda151）です。今朝6時ごろ（5/2）、とある方からツイッターでリプライをいただきました。（あまりに驚きすぎて10秒ほどフリーズしました。）ALISを', 'status': 'public', 'eye_catch_url': 'https://alis.to/d/api/articles_images/wand/2xANODyYEV96/720d0ddd-d2cb-4440-8318-cb411d325024.png', 'sort_key': 1525280489647221, 'article_id': '2xANODyYEV96', 'published_at': 1525280489, 'tags': ['ALISグルメ企画'], 'title': 'ALIS読者の心得', 'body': '<div class=\"medium-insert-images\"><figure>\\n    <img alt=\"\" src=\"https://alis.to/d/api/articles_images/wand/2xANODyYEV96/720d0ddd-d2cb-4440-8318-cb411d325024.png\">\\n        \\n</figure></div><blockquote>aaaa</blockquote><p><br></p><p>こんにちは、Wanda（<a href=\"https://twitter.com/aliswanda151\">@aliswanda151</a>）です。</p><p><br></p><p><br></p><p><b>今朝6時ごろ（5/2）、とある方からツイッターでリプライをいただきました。</b></p><div><figure contenteditable=\"false\">\\n    <img alt=\"\" src=\"https://alis.to/d/api/articles_images/wand/2xANODyYEV96/a87612ee-f019-4d02-b094-3aefde5758d1.png\">\\n        \\n</figure></div><p>（あまりに驚きすぎて10秒ほどフリーズしました。）</p><p><br></p><p><br></p><p><br></p><h2>ALISをしている方なら誰もが知っている、公式ALISアンバサダーの<a href=\"https://twitter.com/Alisambassador/media\">ワイン2年生</a>さんからメッセージをいただいてしまったのです！</h2><p>記事を読んでいただいた上に、感想までいただいてしまいました(TωT)ｳﾙｳﾙ</p><p><br></p><p>ワインさんから感想いただいた記事です。</p><p><b><a href=\"https://alis.to/me/articles/public/3LqV1qnyX1Dp\">読んだついでに「いいね！」押しちゃいますよね</a></b></p><p><a href=\"https://alis.to/me/articles/public/3LqV1qnyX1Dp\">https://alis.to/me/articles/public/3LqV1qnyX1Dp</a></p><p><br></p><p><br></p><p>私のへっぽこ記事にまで目を通してくれるなんて感謝感激雨あられです。</p><p>これで私も立派なAlisistaですかね(笑)</p><p><br></p><p><br></p><p>ワインさんは、ALISアンバサダーとして様々な活動をされていますが、私のような、小さなAlisistaの記事まで読んでいるんですね。驚きです!!</p><p>さすが、アンバサダーです。</p><p>（偉そうにすみません汗）</p><p><br></p><h3>また、驚きと同時に、もっと良質な記事を作らねばという使命感が生まれました。<br>やはり、有名な方からの感想はモチベーションアップにつながりますね。</h3><p><br></p><p><br></p><p>ALISがこれからどのようなソーシャルメディアになっていくのか、まだまだ想像できませんが、ALISを広げていくためにはアンバサダーの力は必要不可欠です。</p><p>ワインさんのような方がアンバサダーで本当によかったなと思っています。</p><h2><b><br></b></h2><h2></h2><h3></h3><h2><b>しかし、ALISを作り上げるのはアンバサダーではありません。<br></b>発信者（Alisista）、読者が作り上げるものです。</h2><p><br></p><p>なので、ALISを盛り上げていくために、私も頑張りますよー!!</p><p><br></p><hr><p><br></p><p><b>ALISアンバサダー\\u3000ワイン2年生さんのALISとツイッターになります。</b><br></p><p>ALIS</p><p><a href=\"https://alis.to/users/wine\">https://alis.to/users/wine</a></p><p>ツイッター</p><p><a href=\"https://twitter.com/Alisambassador/media\">https://twitter.com/Alisambassador/media</a></p><hr><p><br></p><p><br></p><p><br></p><p><br></p><p>長い自慢話になってしまいましたね。</p><p><br></p><p>本日の本題です。</p><p>非常に短いです。お付き合いください。<br></p><p><b><br></b></p><p><b><br></b></p><p>読者の心得についてお話します。</p><p><br></p><p>それは、</p><h2><b>気になった記事には、一言でいいから、コメントする</b></h2><p>です。<br></p><p><br></p><p>今はコメント機能がないのでコメントを書き込めませんよね。</p><h2>ただ、コメント機能が追加されたら、気になった記事には一言でいいのでコメントしましょう。</h2><p><br></p><p>なぜなら、記事向上につながるからです。良質な記事ができれば、ALISに人が集まります。発信者（Alisista）のモチベーションアップにもつながります。</p><p><br></p><p>誹謗中傷はだめですよ。それはただの嫌がらせです。双方にメリットがありませんからね。</p><p><br></p><p><br></p><p>私も一読者として、コメントしたい記事がたくさんあります。コメント機能楽しみにしています！</p><p><b><br></b></p><p><b><br></b></p><p><b>コメント機能追加されたら、ぜひ、私にもコメントください!!</b></p><h2><b><i><br></i></b></h2><p><b><i><br></i></b></p><p><b><i><br></i></b></p><p><b><i><br></i></b></p><h2><b><i>おまけ</i></b></h2><p>最近、水彩画を描くのにはまっています。</p><div class=\"medium-insert-images medium-insert-images-grid\"><figure>\\n    <img alt=\"\" src=\"https://alis.to/d/api/articles_images/wand/2xANODyYEV96/84acbe5e-f64d-4c4a-9af7-45a2d52e6693.jpeg\">\\n        \\n</figure></div><p>今日はALISのロゴを描いてみました。</p><p><br></p><p>自慢ではないですが、学校での美術の評価は２が多かったです。<br></p><p>のびしろ\\u3000しかないと思っています(笑)</p><p>ぜひ、記事の成長と水彩画の成長を暖かく見守ってほしいなと思います。</p><blockquote>企画名：秋の味覚絶品ピン<br>料理ジャンル：ラーメン<br>店名：中華そば 鍾馗<br>住所：〒381-0000 長野県長野市鶴賀上千歳町１３３７</blockquote><p><br></p><p><br></p><p><br></p><p><br></p><p><br></p><p><br></p><p><br></p><hr><div class=\"medium-insert-images medium-insert-images-right\"><figure>\\n    <img alt=\"\" src=\"https://alis.to/d/api/articles_images/wand/2xANODyYEV96/6525562d-f21d-4d47-9452-4f7d553f5c89.png\">\\n        \\n</figure></div><p><b>Wanda</b></p><p>過去記事一覧</p><p><a href=\"https://alis.to/users/wand\">https://alis.to/users/wand</a></p><p>ツイッター</p><p>@aliswanda151</p><p><a href=\"https://twitter.com/aliswanda151\">https://twitter.com/aliswanda151</a></p><p>おすすめ記事</p><p><a href=\"https://alis.to/wand/articles/K5xzVNP8yjen\">https://alis.to/wand/articles/K5xzVNP8yjen</a></p>    '}]\n"
     ]
    }
   ],
   "source": [
    "articles_bodys = [json.loads(urllib.request.urlopen(api_article_id).read().decode(\"utf-8\")) for api_article_id in api_article_ids]\n",
    "print(articles_bodys)"
   ]
  },
  {
   "cell_type": "code",
   "execution_count": 241,
   "metadata": {},
   "outputs": [],
   "source": [
    "def get_block(text, start_text, end_text):\n",
    "    if not text.find(start_text) >= 0:\n",
    "        return []\n",
    "    new_texts = []\n",
    "    for split_text in text.split(start_text):\n",
    "        if split_text.find(end_text) >= 0:\n",
    "            new_texts.append(split_text.split(end_text)[0])\n",
    "    return new_texts"
   ]
  },
  {
   "cell_type": "code",
   "execution_count": 243,
   "metadata": {},
   "outputs": [
    {
     "name": "stdout",
     "output_type": "stream",
     "text": [
      "秋の味覚絶品ピン\n",
      "秋の味覚絶品ピン\n"
     ]
    }
   ],
   "source": [
    "for articles_body in articles_bodys:\n",
    "    texts = get_block(articles_body.get(\"body\"), \"<blockquote>\", \"</blockquote>\")\n",
    "    texts = [text for text in texts if text.find(\"〒\") >= 0]\n",
    "    project_names = get_block(\"\".join(texts), \"企画名\", \"<br>\")\n",
    "    project_names = [name.replace(\":\", \"\").replace(\"：\", \"\").replace(\"</blockquote><p>\", \"\") for name in project_names ]\n",
    "    print(project_names[-1])"
   ]
  },
  {
   "cell_type": "code",
   "execution_count": 244,
   "metadata": {},
   "outputs": [
    {
     "name": "stdout",
     "output_type": "stream",
     "text": [
      "ラーメン\n",
      "ラーメン\n"
     ]
    }
   ],
   "source": [
    "for articles_body in articles_bodys:\n",
    "    texts = get_block(articles_body.get(\"body\"), \"<blockquote>\", \"</blockquote>\")\n",
    "    texts = [text for text in texts if text.find(\"〒\") >= 0]\n",
    "    food_genre = get_block(\"\".join(texts), \"料理ジャンル\", \"<br>\")\n",
    "    food_genre = [name.replace(\":\", \"\").replace(\"：\", \"\").replace(\"</blockquote><p>\", \"\") for name in food_genre ]\n",
    "    print(food_genre[-1])"
   ]
  },
  {
   "cell_type": "code",
   "execution_count": 242,
   "metadata": {},
   "outputs": [
    {
     "name": "stdout",
     "output_type": "stream",
     "text": [
      "拉麺 阿吽\n",
      "中華そば 鍾馗\n"
     ]
    }
   ],
   "source": [
    "for articles_body in articles_bodys:\n",
    "    texts = get_block(articles_body.get(\"body\"), \"<blockquote>\", \"</blockquote>\")\n",
    "    texts = [text for text in texts if text.find(\"〒\") >= 0]\n",
    "    store_names = get_block(\"\".join(texts), \"店名\", \"<br>\")\n",
    "    store_names = [name.replace(\":\", \"\").replace(\"：\", \"\").replace(\"</blockquote><p>\", \"\") for name in store_names ]\n",
    "    print(store_names[-1])"
   ]
  },
  {
   "cell_type": "code",
   "execution_count": 245,
   "metadata": {},
   "outputs": [
    {
     "name": "stdout",
     "output_type": "stream",
     "text": [
      "〒380-0928 長野県長野市若里４丁目１５−１８\n",
      "〒381-0000 長野県長野市鶴賀上千歳町１３３７\n"
     ]
    }
   ],
   "source": [
    "for articles_body in articles_bodys:\n",
    "    texts = get_block(articles_body.get(\"body\"), \"<blockquote>\", \"</blockquote>\")\n",
    "    texts = [text for text in texts if text.find(\"〒\") >= 0]\n",
    "    locations = get_block(articles_body.get(\"body\"), \"住所：\",\"<br>\")\n",
    "    locations = [location for location in locations if location.find(\"〒\") >= 0]\n",
    "    locations = [location.replace(\":\", \"\").replace(\"：\", \"\").replace(\"</blockquote><p>\", \"\") for location in locations ]\n",
    "    print(locations[-1])"
   ]
  },
  {
   "cell_type": "code",
   "execution_count": 246,
   "metadata": {},
   "outputs": [
    {
     "name": "stdout",
     "output_type": "stream",
     "text": [
      "https://alis.to/wand/articles/3Y1odX9j51qy\n",
      "https://alis.to/wand/articles/2xANODyYEV96\n"
     ]
    }
   ],
   "source": [
    "for (article_id, user_id) in zip(article_ids, user_ids):\n",
    "    article_url=\"https://alis.to/\"+str(user_id) +\"/articles/\"+ str(article_id)\n",
    "    print(article_url)"
   ]
  }
 ],
 "metadata": {
  "kernelspec": {
   "display_name": "Python 3",
   "language": "python",
   "name": "python3"
  },
  "language_info": {
   "codemirror_mode": {
    "name": "ipython",
    "version": 3
   },
   "file_extension": ".py",
   "mimetype": "text/x-python",
   "name": "python",
   "nbconvert_exporter": "python",
   "pygments_lexer": "ipython3",
   "version": "3.6.5"
  }
 },
 "nbformat": 4,
 "nbformat_minor": 2
}
