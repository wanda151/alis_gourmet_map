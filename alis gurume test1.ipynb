{
 "cells": [
  {
   "cell_type": "code",
   "execution_count": 1,
   "metadata": {},
   "outputs": [],
   "source": [
    "import urllib\n",
    "import json\n",
    "import sys\n",
    "import codecs\n",
    "import urllib.request\n",
    "import pprint\n",
    "import datetime\n",
    "import time"
   ]
  },
  {
   "cell_type": "code",
   "execution_count": 2,
   "metadata": {},
   "outputs": [],
   "source": [
    "api_tag = 'https://alis.to/api/search/articles?tag=%E8%87%B3%E9%AB%98%E3%81%AE%E2%97%8B%E2%97%8B%E3%83%86%E3%82%B9%E3%83%88'\n",
    "#APIの/search/articlesのパラメーターに「至高の○○テスト」と入力後、queryをtagに変換"
   ]
  },
  {
   "cell_type": "code",
   "execution_count": 3,
   "metadata": {},
   "outputs": [],
   "source": [
    "url_tag = urllib.request.urlopen(api_tag)"
   ]
  },
  {
   "cell_type": "code",
   "execution_count": 4,
   "metadata": {},
   "outputs": [],
   "source": [
    "article_tag = json.loads(url_tag.read().decode(\"utf-8\"))"
   ]
  },
  {
   "cell_type": "code",
   "execution_count": 5,
   "metadata": {},
   "outputs": [
    {
     "name": "stdout",
     "output_type": "stream",
     "text": [
      "['3ldMkpzN4J87', '2xANODyYEV96', '3LqV1qnyX1Dp']\n"
     ]
    }
   ],
   "source": [
    "article_id = [article_tags.get('article_id') for article_tags in article_tag]\n",
    "print(article_id)\n",
    "#article_idを取り出す"
   ]
  },
  {
   "cell_type": "code",
   "execution_count": 6,
   "metadata": {},
   "outputs": [
    {
     "name": "stdout",
     "output_type": "stream",
     "text": [
      "['wand', 'wand', 'wand']\n"
     ]
    }
   ],
   "source": [
    "user_id = [article_tags.get('user_id') for article_tags in article_tag]\n",
    "print(user_id)\n",
    "#user_id を取り出す"
   ]
  },
  {
   "cell_type": "code",
   "execution_count": 7,
   "metadata": {},
   "outputs": [
    {
     "name": "stdout",
     "output_type": "stream",
     "text": [
      "['https://alis.to/api/articles/3ldMkpzN4J87', 'https://alis.to/api/articles/2xANODyYEV96', 'https://alis.to/api/articles/3LqV1qnyX1Dp']\n"
     ]
    }
   ],
   "source": [
    "api_article_id = [\"https://alis.to/api/articles/\"+article_id for article_id in article_id]\n",
    "print(api_article_id)\n",
    "#article_idをAPIで使いやすい形にする"
   ]
  },
  {
   "cell_type": "code",
   "execution_count": 8,
   "metadata": {},
   "outputs": [
    {
     "name": "stdout",
     "output_type": "stream",
     "text": [
      "['https://alis.to/api/users/wand/info', 'https://alis.to/api/users/wand/info', 'https://alis.to/api/users/wand/info']\n"
     ]
    }
   ],
   "source": [
    "user_id_info_api = [\"https://alis.to/api/users/\"+user_ids+\"/info\" for user_ids in user_id]\n",
    "print(user_id_info_api)\n",
    "#/users/{user_id}/infoをAPIで使いやすい形にする"
   ]
  },
  {
   "cell_type": "code",
   "execution_count": 9,
   "metadata": {},
   "outputs": [
    {
     "name": "stdout",
     "output_type": "stream",
     "text": [
      "[{'icon_image_url': 'https://alis.to/d/api/info_icon/wand/icon/fe90058c-f423-45b5-b47f-1fa75f4cd39c.png',\n",
      "  'self_introduction': 'こんにちは、Wandaです。趣味で水彩画描いています。ツイッター@aliswanda151',\n",
      "  'user_display_name': 'Wanda',\n",
      "  'user_id': 'wand'},\n",
      " {'icon_image_url': 'https://alis.to/d/api/info_icon/wand/icon/fe90058c-f423-45b5-b47f-1fa75f4cd39c.png',\n",
      "  'self_introduction': 'こんにちは、Wandaです。趣味で水彩画描いています。ツイッター@aliswanda151',\n",
      "  'user_display_name': 'Wanda',\n",
      "  'user_id': 'wand'},\n",
      " {'icon_image_url': 'https://alis.to/d/api/info_icon/wand/icon/fe90058c-f423-45b5-b47f-1fa75f4cd39c.png',\n",
      "  'self_introduction': 'こんにちは、Wandaです。趣味で水彩画描いています。ツイッター@aliswanda151',\n",
      "  'user_display_name': 'Wanda',\n",
      "  'user_id': 'wand'}]\n"
     ]
    }
   ],
   "source": [
    "user_id_info = [json.loads(urllib.request.urlopen(user_id_info_apis).read().decode(\"utf-8\")) for user_id_info_apis in user_id_info_api]\n",
    "#/users/{user_id}/infoを取り出す\n",
    "pprint.pprint(user_id_info)"
   ]
  },
  {
   "cell_type": "code",
   "execution_count": 10,
   "metadata": {},
   "outputs": [
    {
     "name": "stdout",
     "output_type": "stream",
     "text": [
      "['Wanda', 'Wanda', 'Wanda']\n"
     ]
    }
   ],
   "source": [
    "user_display_name = [user_id_infos.get('user_display_name') for user_id_infos in user_id_info]\n",
    "print(user_display_name)\n",
    "#user_display_nameを取り出す"
   ]
  },
  {
   "cell_type": "code",
   "execution_count": 11,
   "metadata": {},
   "outputs": [
    {
     "name": "stdout",
     "output_type": "stream",
     "text": [
      "Wanda\n",
      "Wanda\n",
      "Wanda\n"
     ]
    }
   ],
   "source": [
    "for user_display_names in user_display_name:\n",
    "    print(user_display_names)"
   ]
  },
  {
   "cell_type": "code",
   "execution_count": 12,
   "metadata": {},
   "outputs": [
    {
     "name": "stdout",
     "output_type": "stream",
     "text": [
      "['https://alis.to/api/articles/3ldMkpzN4J87/likes', 'https://alis.to/api/articles/2xANODyYEV96/likes', 'https://alis.to/api/articles/3LqV1qnyX1Dp/likes']\n"
     ]
    }
   ],
   "source": [
    "likes_api = [\"https://alis.to/api/articles/\"+article_ids+\"/likes\" for article_ids in article_id]\n",
    "print(likes_api)\n",
    "#/articles/{article_id}/likesをAPIで使いやすい形にする"
   ]
  },
  {
   "cell_type": "code",
   "execution_count": 13,
   "metadata": {},
   "outputs": [
    {
     "name": "stdout",
     "output_type": "stream",
     "text": [
      "[{'count': 103}, {'count': 34}, {'count': 16}]\n"
     ]
    }
   ],
   "source": [
    "like = [json.loads(urllib.request.urlopen(likes_apis).read().decode(\"utf-8\")) for likes_apis in likes_api]\n",
    "pprint.pprint(like)"
   ]
  },
  {
   "cell_type": "code",
   "execution_count": 14,
   "metadata": {},
   "outputs": [
    {
     "name": "stdout",
     "output_type": "stream",
     "text": [
      "[103, 34, 16]\n"
     ]
    }
   ],
   "source": [
    "likes_count = [likes.get('count') for likes in like]\n",
    "print(likes_count)\n",
    "#Like数を取り出す"
   ]
  },
  {
   "cell_type": "code",
   "execution_count": 15,
   "metadata": {},
   "outputs": [
    {
     "name": "stdout",
     "output_type": "stream",
     "text": [
      "103\n",
      "34\n",
      "16\n"
     ]
    }
   ],
   "source": [
    "for likes_counts in likes_count:\n",
    "    print(likes_counts)"
   ]
  },
  {
   "cell_type": "code",
   "execution_count": 16,
   "metadata": {},
   "outputs": [],
   "source": [
    "articles_body = [json.loads(urllib.request.urlopen(api_article_ids).read().decode(\"utf-8\")) for api_article_ids in api_article_id]\n",
    "#記事の本文を取りだす"
   ]
  },
  {
   "cell_type": "code",
   "execution_count": 17,
   "metadata": {},
   "outputs": [],
   "source": [
    "def get_block(text, start_text, end_text):\n",
    "    new_texts = []\n",
    "    for split_text in text.split(start_text):\n",
    "        if split_text.find(end_text):\n",
    "            new_texts.append(split_text.split(end_text)[0])\n",
    "    return new_texts"
   ]
  },
  {
   "cell_type": "code",
   "execution_count": 18,
   "metadata": {},
   "outputs": [
    {
     "name": "stdout",
     "output_type": "stream",
     "text": [
      "麺匠あじゃり<br>〒381-2217 長野県長野市稲里町中央３丁目３５\n",
      "中華そば 鍾馗<br>〒381-0000 長野県長野市鶴賀上千歳町１３３７\n",
      "麺屋蕪村 権堂店<br>〒380-0833 長野県長野市鶴賀権堂町２２８４\n"
     ]
    }
   ],
   "source": [
    "for articles_bodys in articles_body:\n",
    "    texts = get_block(articles_bodys.get(\"body\"), \"<blockquote>\", \"</blockquote>\")\n",
    "    print(texts[1])\n",
    "    #<blockquote>内のみを取り出す"
   ]
  },
  {
   "cell_type": "code",
   "execution_count": 19,
   "metadata": {},
   "outputs": [
    {
     "name": "stdout",
     "output_type": "stream",
     "text": [
      "https://alis.to/wand/articles/3ldMkpzN4J87\n",
      "https://alis.to/wand/articles/2xANODyYEV96\n",
      "https://alis.to/wand/articles/3LqV1qnyX1Dp\n"
     ]
    }
   ],
   "source": [
    "for (article_ids, user_ids) in zip(article_id, user_id):\n",
    "    article_url=\"https://alis.to/\"+str(user_ids) +\"/articles/\"+ str(article_ids)\n",
    "    print(article_url)\n",
    "#URLを取り出す"
   ]
  },
  {
   "cell_type": "code",
   "execution_count": null,
   "metadata": {},
   "outputs": [],
   "source": []
  }
 ],
 "metadata": {
  "kernelspec": {
   "display_name": "Python 3",
   "language": "python",
   "name": "python3"
  },
  "language_info": {
   "codemirror_mode": {
    "name": "ipython",
    "version": 3
   },
   "file_extension": ".py",
   "mimetype": "text/x-python",
   "name": "python",
   "nbconvert_exporter": "python",
   "pygments_lexer": "ipython3",
   "version": "3.6.5"
  }
 },
 "nbformat": 4,
 "nbformat_minor": 2
}
